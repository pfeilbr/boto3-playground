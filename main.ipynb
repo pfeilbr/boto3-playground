{
 "metadata": {
  "language_info": {
   "codemirror_mode": {
    "name": "ipython",
    "version": 3
   },
   "file_extension": ".py",
   "mimetype": "text/x-python",
   "name": "python",
   "nbconvert_exporter": "python",
   "pygments_lexer": "ipython3",
   "version": "3.8.5-final"
  },
  "orig_nbformat": 2,
  "kernelspec": {
   "name": "python3",
   "display_name": "Python 3"
  }
 },
 "nbformat": 4,
 "nbformat_minor": 2,
 "cells": [
  {
   "cell_type": "code",
   "execution_count": null,
   "metadata": {},
   "outputs": [],
   "source": [
    "import pprint\n",
    "import boto3\n",
    "\n",
    "pp = pprint.PrettyPrinter(indent=4)\n",
    "\n",
    "client = boto3.client(\"s3\")\n",
    "buckets = client.list_buckets()\n",
    "    \n",
    "for bucket in buckets['Buckets']:\n",
    "    print('Name: ' + bucket['Name'])\n",
    "\n"
   ]
  },
  {
   "source": [
    "\n",
    "# pagination example\n",
    "cwl = boto3.client(\"logs\")\n",
    "\n",
    "paginator = cwl.get_paginator('describe_log_groups')\n",
    "page_iterator = paginator.paginate(logGroupNamePrefix=\"/aws\",\n",
    "PaginationConfig={\n",
    "        'MaxItems': 10000,\n",
    "        'PageSize': 20\n",
    "    })\n",
    "\n",
    "page_iterations_count=0\n",
    "log_groups_count=0\n",
    "for page in page_iterator:\n",
    "    page_iterations_count+=1\n",
    "    log_groups_count += len(page['logGroups'])\n",
    "\n",
    "print(f\"page_iterations_count: {page_iterations_count}, log_groups_count: {log_groups_count}\")\n",
    "    \n",
    "\n"
   ],
   "cell_type": "code",
   "metadata": {
    "tags": []
   },
   "execution_count": 23,
   "outputs": [
    {
     "output_type": "stream",
     "name": "stdout",
     "text": [
      "page_iterations_count: 5, log_groups_count: 165\n"
     ]
    }
   ]
  }
 ]
}