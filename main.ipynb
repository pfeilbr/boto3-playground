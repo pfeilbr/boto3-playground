{
 "metadata": {
  "language_info": {
   "codemirror_mode": {
    "name": "ipython",
    "version": 3
   },
   "file_extension": ".py",
   "mimetype": "text/x-python",
   "name": "python",
   "nbconvert_exporter": "python",
   "pygments_lexer": "ipython3",
   "version": "3.8.5-final"
  },
  "orig_nbformat": 2,
  "kernelspec": {
   "name": "python3",
   "display_name": "Python 3"
  }
 },
 "nbformat": 4,
 "nbformat_minor": 2,
 "cells": [
  {
   "cell_type": "code",
   "execution_count": null,
   "metadata": {},
   "outputs": [],
   "source": [
    "import pprint\n",
    "import boto3\n",
    "\n",
    "pp = pprint.PrettyPrinter(indent=4)\n",
    "\n",
    "client = boto3.client(\"s3\")\n",
    "buckets = client.list_buckets()\n",
    "    \n",
    "for bucket in buckets['Buckets']:\n",
    "    print('Name: ' + bucket['Name'])\n",
    "\n"
   ]
  },
  {
   "source": [
    "\n",
    "# pagination example\n",
    "cwl = boto3.client(\"logs\")\n",
    "\n",
    "paginator = cwl.get_paginator('describe_log_groups')\n",
    "page_iterator = paginator.paginate(logGroupNamePrefix=\"/aws\",\n",
    "PaginationConfig={\n",
    "        'MaxItems': 10000,\n",
    "        'PageSize': 20\n",
    "    })\n",
    "\n",
    "page_iterations_count=0\n",
    "log_groups_count=0\n",
    "for page in page_iterator:\n",
    "    page_iterations_count+=1\n",
    "    log_groups_count += len(page['logGroups'])\n",
    "\n",
    "print(f\"page_iterations_count: {page_iterations_count}, log_groups_count: {log_groups_count}\")\n",
    "    \n",
    "\n"
   ],
   "cell_type": "code",
   "metadata": {
    "tags": []
   },
   "execution_count": null,
   "outputs": []
  },
  {
   "cell_type": "code",
   "execution_count": null,
   "metadata": {},
   "outputs": [],
   "source": [
    "# AWS Step Functions Data Science SDK Example\n",
    "# https://aws-step-functions-data-science-sdk.readthedocs.io/\n",
    "\n",
    "import stepfunctions\n",
    "import logging\n",
    "\n",
    "from stepfunctions.steps import *\n",
    "from stepfunctions.workflow import Workflow\n",
    "\n",
    "stepfunctions.set_stream_logger(level=logging.INFO)\n",
    "\n",
    "workflow_execution_role = \"arn:aws:iam::529276214230:role/StepFunctionsWorkflowExecutionRole\" # paste the StepFunctionsWorkflowExecutionRole ARN from above\n",
    "\n",
    "start_pass_state = Pass(\n",
    "    state_id=\"MyPassState\"             \n",
    ")\n",
    "\n",
    "# First we chain the start pass state\n",
    "basic_path=Chain([start_pass_state])\n",
    "\n",
    "basic_workflow = Workflow(\n",
    "    name=\"MyWorkflow_Simple\",\n",
    "    definition=basic_path,\n",
    "    role=workflow_execution_role\n",
    ")\n",
    "\n",
    "#Render the workflow\n",
    "basic_workflow.render_graph()\n",
    "\n",
    "print(basic_workflow.definition.to_json(pretty=True))\n"
   ]
  },
  {
   "cell_type": "code",
   "execution_count": 8,
   "metadata": {},
   "outputs": [
    {
     "output_type": "stream",
     "name": "stdout",
     "text": [
      "\u001b[33m[WARNING] To reuse the CloudFormation template in different regions, please make sure to update the region specific AWS resources in the StateMachine definition.\u001b[0m\n"
     ]
    },
    {
     "output_type": "execute_result",
     "data": {
      "text/plain": [
       "'AWSTemplateFormatVersion: \\'2010-09-09\\'\\nDescription: CloudFormation template for AWS Step Functions - State Machine\\nResources:\\n  StateMachineComponent:\\n    Type: AWS::StepFunctions::StateMachine\\n    Properties:\\n      StateMachineName: MyWorkflow_Simple\\n      DefinitionString: |-\\n        {\\n          \"StartAt\": \"MyPassState\",\\n          \"States\": {\\n            \"MyPassState\": {\\n              \"Type\": \"Pass\",\\n              \"End\": true\\n            }\\n          }\\n        }\\n      RoleArn: arn:aws:iam::529276214230:role/StepFunctionsWorkflowExecutionRole\\n'"
      ]
     },
     "metadata": {},
     "execution_count": 8
    }
   ],
   "source": [
    "basic_workflow.create()\n",
    "\n",
    "basic_workflow_execution = basic_workflow.execute()\n",
    "\n",
    "basic_workflow_execution.render_progress()\n",
    "\n",
    "basic_workflow_execution.list_events(html=True)\n",
    "\n",
    "# generates an AWS CloudFormation Template to deploy your workflow.\n",
    "basic_workflow.get_cloudformation_template()"
   ]
  }
 ]
}